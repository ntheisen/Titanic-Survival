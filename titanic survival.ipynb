{
 "cells": [
  {
   "cell_type": "code",
   "execution_count": 1,
   "metadata": {},
   "outputs": [],
   "source": [
    "import numpy as np\n",
    "import pandas as pd\n",
    "import matplotlib.pyplot as plt\n",
    "import seaborn as sns\n",
    "import re\n",
    "import time\n",
    "%matplotlib inline\n",
    "\n",
    "from sklearn.preprocessing import LabelEncoder, StandardScaler\n",
    "from sklearn.model_selection import train_test_split, cross_val_score, KFold, GridSearchCV, StratifiedKFold\n",
    "from sklearn.linear_model import LogisticRegression\n",
    "from sklearn import metrics\n",
    "from sklearn.neighbors import KNeighborsClassifier\n",
    "from sklearn.ensemble import BaggingClassifier, RandomForestClassifier, AdaBoostClassifier, GradientBoostingClassifier\n",
    "from sklearn.svm import SVC\n",
    "\n",
    "#import tensorflow as tf"
   ]
  },
  {
   "cell_type": "code",
   "execution_count": 2,
   "metadata": {},
   "outputs": [],
   "source": [
    "train = pd.read_csv('Data/train.csv', index_col=0)\n",
    "test = pd.read_csv('Data/test.csv', index_col=0)\n",
    "survived = train.Survived"
   ]
  },
  {
   "cell_type": "code",
   "execution_count": 3,
   "metadata": {},
   "outputs": [
    {
     "name": "stdout",
     "output_type": "stream",
     "text": [
      "(891, 11)\n",
      "(418, 10)\n",
      "(891,)\n"
     ]
    }
   ],
   "source": [
    "print(train.shape)\n",
    "print(test.shape)\n",
    "print(survived.shape)"
   ]
  },
  {
   "cell_type": "code",
   "execution_count": 4,
   "metadata": {},
   "outputs": [],
   "source": [
    "data = pd.concat([train.drop(['Survived'], axis=1), test])"
   ]
  },
  {
   "cell_type": "code",
   "execution_count": 5,
   "metadata": {},
   "outputs": [
    {
     "name": "stdout",
     "output_type": "stream",
     "text": [
      "(1309, 10)\n"
     ]
    }
   ],
   "source": [
    "print(data.shape)"
   ]
  },
  {
   "cell_type": "code",
   "execution_count": 6,
   "metadata": {},
   "outputs": [
    {
     "data": {
      "text/html": [
       "<div>\n",
       "<style scoped>\n",
       "    .dataframe tbody tr th:only-of-type {\n",
       "        vertical-align: middle;\n",
       "    }\n",
       "\n",
       "    .dataframe tbody tr th {\n",
       "        vertical-align: top;\n",
       "    }\n",
       "\n",
       "    .dataframe thead th {\n",
       "        text-align: right;\n",
       "    }\n",
       "</style>\n",
       "<table border=\"1\" class=\"dataframe\">\n",
       "  <thead>\n",
       "    <tr style=\"text-align: right;\">\n",
       "      <th></th>\n",
       "      <th>Pclass</th>\n",
       "      <th>Name</th>\n",
       "      <th>Sex</th>\n",
       "      <th>Age</th>\n",
       "      <th>SibSp</th>\n",
       "      <th>Parch</th>\n",
       "      <th>Ticket</th>\n",
       "      <th>Fare</th>\n",
       "      <th>Cabin</th>\n",
       "      <th>Embarked</th>\n",
       "    </tr>\n",
       "    <tr>\n",
       "      <th>PassengerId</th>\n",
       "      <th></th>\n",
       "      <th></th>\n",
       "      <th></th>\n",
       "      <th></th>\n",
       "      <th></th>\n",
       "      <th></th>\n",
       "      <th></th>\n",
       "      <th></th>\n",
       "      <th></th>\n",
       "      <th></th>\n",
       "    </tr>\n",
       "  </thead>\n",
       "  <tbody>\n",
       "    <tr>\n",
       "      <th>1</th>\n",
       "      <td>3</td>\n",
       "      <td>Braund, Mr. Owen Harris</td>\n",
       "      <td>male</td>\n",
       "      <td>22.0</td>\n",
       "      <td>1</td>\n",
       "      <td>0</td>\n",
       "      <td>A/5 21171</td>\n",
       "      <td>7.2500</td>\n",
       "      <td>NaN</td>\n",
       "      <td>S</td>\n",
       "    </tr>\n",
       "    <tr>\n",
       "      <th>2</th>\n",
       "      <td>1</td>\n",
       "      <td>Cumings, Mrs. John Bradley (Florence Briggs Th...</td>\n",
       "      <td>female</td>\n",
       "      <td>38.0</td>\n",
       "      <td>1</td>\n",
       "      <td>0</td>\n",
       "      <td>PC 17599</td>\n",
       "      <td>71.2833</td>\n",
       "      <td>C85</td>\n",
       "      <td>C</td>\n",
       "    </tr>\n",
       "    <tr>\n",
       "      <th>3</th>\n",
       "      <td>3</td>\n",
       "      <td>Heikkinen, Miss. Laina</td>\n",
       "      <td>female</td>\n",
       "      <td>26.0</td>\n",
       "      <td>0</td>\n",
       "      <td>0</td>\n",
       "      <td>STON/O2. 3101282</td>\n",
       "      <td>7.9250</td>\n",
       "      <td>NaN</td>\n",
       "      <td>S</td>\n",
       "    </tr>\n",
       "    <tr>\n",
       "      <th>4</th>\n",
       "      <td>1</td>\n",
       "      <td>Futrelle, Mrs. Jacques Heath (Lily May Peel)</td>\n",
       "      <td>female</td>\n",
       "      <td>35.0</td>\n",
       "      <td>1</td>\n",
       "      <td>0</td>\n",
       "      <td>113803</td>\n",
       "      <td>53.1000</td>\n",
       "      <td>C123</td>\n",
       "      <td>S</td>\n",
       "    </tr>\n",
       "    <tr>\n",
       "      <th>5</th>\n",
       "      <td>3</td>\n",
       "      <td>Allen, Mr. William Henry</td>\n",
       "      <td>male</td>\n",
       "      <td>35.0</td>\n",
       "      <td>0</td>\n",
       "      <td>0</td>\n",
       "      <td>373450</td>\n",
       "      <td>8.0500</td>\n",
       "      <td>NaN</td>\n",
       "      <td>S</td>\n",
       "    </tr>\n",
       "  </tbody>\n",
       "</table>\n",
       "</div>"
      ],
      "text/plain": [
       "             Pclass                                               Name  \\\n",
       "PassengerId                                                              \n",
       "1                 3                            Braund, Mr. Owen Harris   \n",
       "2                 1  Cumings, Mrs. John Bradley (Florence Briggs Th...   \n",
       "3                 3                             Heikkinen, Miss. Laina   \n",
       "4                 1       Futrelle, Mrs. Jacques Heath (Lily May Peel)   \n",
       "5                 3                           Allen, Mr. William Henry   \n",
       "\n",
       "                Sex   Age  SibSp  Parch            Ticket     Fare Cabin  \\\n",
       "PassengerId                                                                \n",
       "1              male  22.0      1      0         A/5 21171   7.2500   NaN   \n",
       "2            female  38.0      1      0          PC 17599  71.2833   C85   \n",
       "3            female  26.0      0      0  STON/O2. 3101282   7.9250   NaN   \n",
       "4            female  35.0      1      0            113803  53.1000  C123   \n",
       "5              male  35.0      0      0            373450   8.0500   NaN   \n",
       "\n",
       "            Embarked  \n",
       "PassengerId           \n",
       "1                  S  \n",
       "2                  C  \n",
       "3                  S  \n",
       "4                  S  \n",
       "5                  S  "
      ]
     },
     "execution_count": 6,
     "metadata": {},
     "output_type": "execute_result"
    }
   ],
   "source": [
    "data.head()"
   ]
  },
  {
   "cell_type": "code",
   "execution_count": 7,
   "metadata": {},
   "outputs": [
    {
     "data": {
      "text/plain": [
       "<matplotlib.axes._subplots.AxesSubplot at 0xcc5f5c0>"
      ]
     },
     "execution_count": 7,
     "metadata": {},
     "output_type": "execute_result"
    },
    {
     "data": {
      "image/png": "[encoded data removed]",
      "text/plain": [
       "<Figure size 432x288 with 1 Axes>"
      ]
     },
     "metadata": {},
     "output_type": "display_data"
    }
   ],
   "source": [
    "#Survived, Pclass, Name, Sex, SibSp, Parch, Ticket, Fare - all have values\n",
    "#Plot heat map of what is missing\n",
    "sns.heatmap(data.isna(), yticklabels=False, cbar=False, cmap='Blues')"
   ]
  },
  {
   "cell_type": "code",
   "execution_count": 8,
   "metadata": {},
   "outputs": [
    {
     "data": {
      "text/html": [
       "<div>\n",
       "<style scoped>\n",
       "    .dataframe tbody tr th:only-of-type {\n",
       "        vertical-align: middle;\n",
       "    }\n",
       "\n",
       "    .dataframe tbody tr th {\n",
       "        vertical-align: top;\n",
       "    }\n",
       "\n",
       "    .dataframe thead th {\n",
       "        text-align: right;\n",
       "    }\n",
       "</style>\n",
       "<table border=\"1\" class=\"dataframe\">\n",
       "  <thead>\n",
       "    <tr style=\"text-align: right;\">\n",
       "      <th></th>\n",
       "      <th>Pclass</th>\n",
       "      <th>Name</th>\n",
       "      <th>Sex</th>\n",
       "      <th>Age</th>\n",
       "      <th>SibSp</th>\n",
       "      <th>Parch</th>\n",
       "      <th>Ticket</th>\n",
       "      <th>Fare</th>\n",
       "      <th>Cabin</th>\n",
       "      <th>Embarked</th>\n",
       "    </tr>\n",
       "    <tr>\n",
       "      <th>PassengerId</th>\n",
       "      <th></th>\n",
       "      <th></th>\n",
       "      <th></th>\n",
       "      <th></th>\n",
       "      <th></th>\n",
       "      <th></th>\n",
       "      <th></th>\n",
       "      <th></th>\n",
       "      <th></th>\n",
       "      <th></th>\n",
       "    </tr>\n",
       "  </thead>\n",
       "  <tbody>\n",
       "    <tr>\n",
       "      <th>1044</th>\n",
       "      <td>3</td>\n",
       "      <td>Storey, Mr. Thomas</td>\n",
       "      <td>male</td>\n",
       "      <td>60.5</td>\n",
       "      <td>0</td>\n",
       "      <td>0</td>\n",
       "      <td>3701</td>\n",
       "      <td>NaN</td>\n",
       "      <td>NaN</td>\n",
       "      <td>S</td>\n",
       "    </tr>\n",
       "  </tbody>\n",
       "</table>\n",
       "</div>"
      ],
      "text/plain": [
       "             Pclass                Name   Sex   Age  SibSp  Parch Ticket  \\\n",
       "PassengerId                                                                \n",
       "1044              3  Storey, Mr. Thomas  male  60.5      0      0   3701   \n",
       "\n",
       "             Fare Cabin Embarked  \n",
       "PassengerId                       \n",
       "1044          NaN   NaN        S  "
      ]
     },
     "execution_count": 8,
     "metadata": {},
     "output_type": "execute_result"
    }
   ],
   "source": [
    "data[data.Fare.isna()]"
   ]
  },
  {
   "cell_type": "code",
   "execution_count": 9,
   "metadata": {},
   "outputs": [
    {
     "data": {
      "text/html": [
       "<div>\n",
       "<style scoped>\n",
       "    .dataframe tbody tr th:only-of-type {\n",
       "        vertical-align: middle;\n",
       "    }\n",
       "\n",
       "    .dataframe tbody tr th {\n",
       "        vertical-align: top;\n",
       "    }\n",
       "\n",
       "    .dataframe thead th {\n",
       "        text-align: right;\n",
       "    }\n",
       "</style>\n",
       "<table border=\"1\" class=\"dataframe\">\n",
       "  <thead>\n",
       "    <tr style=\"text-align: right;\">\n",
       "      <th></th>\n",
       "      <th>Pclass</th>\n",
       "      <th>Name</th>\n",
       "      <th>Sex</th>\n",
       "      <th>Age</th>\n",
       "      <th>SibSp</th>\n",
       "      <th>Parch</th>\n",
       "      <th>Ticket</th>\n",
       "      <th>Fare</th>\n",
       "      <th>Cabin</th>\n",
       "      <th>Embarked</th>\n",
       "    </tr>\n",
       "    <tr>\n",
       "      <th>PassengerId</th>\n",
       "      <th></th>\n",
       "      <th></th>\n",
       "      <th></th>\n",
       "      <th></th>\n",
       "      <th></th>\n",
       "      <th></th>\n",
       "      <th></th>\n",
       "      <th></th>\n",
       "      <th></th>\n",
       "      <th></th>\n",
       "    </tr>\n",
       "  </thead>\n",
       "  <tbody>\n",
       "    <tr>\n",
       "      <th>62</th>\n",
       "      <td>1</td>\n",
       "      <td>Icard, Miss. Amelie</td>\n",
       "      <td>female</td>\n",
       "      <td>38.0</td>\n",
       "      <td>0</td>\n",
       "      <td>0</td>\n",
       "      <td>113572</td>\n",
       "      <td>80.0</td>\n",
       "      <td>B28</td>\n",
       "      <td>NaN</td>\n",
       "    </tr>\n",
       "    <tr>\n",
       "      <th>830</th>\n",
       "      <td>1</td>\n",
       "      <td>Stone, Mrs. George Nelson (Martha Evelyn)</td>\n",
       "      <td>female</td>\n",
       "      <td>62.0</td>\n",
       "      <td>0</td>\n",
       "      <td>0</td>\n",
       "      <td>113572</td>\n",
       "      <td>80.0</td>\n",
       "      <td>B28</td>\n",
       "      <td>NaN</td>\n",
       "    </tr>\n",
       "  </tbody>\n",
       "</table>\n",
       "</div>"
      ],
      "text/plain": [
       "             Pclass                                       Name     Sex   Age  \\\n",
       "PassengerId                                                                    \n",
       "62                1                        Icard, Miss. Amelie  female  38.0   \n",
       "830               1  Stone, Mrs. George Nelson (Martha Evelyn)  female  62.0   \n",
       "\n",
       "             SibSp  Parch  Ticket  Fare Cabin Embarked  \n",
       "PassengerId                                             \n",
       "62               0      0  113572  80.0   B28      NaN  \n",
       "830              0      0  113572  80.0   B28      NaN  "
      ]
     },
     "execution_count": 9,
     "metadata": {},
     "output_type": "execute_result"
    }
   ],
   "source": [
    "data[data.Embarked.isna()]"
   ]
  },
  {
   "cell_type": "code",
   "execution_count": 10,
   "metadata": {},
   "outputs": [],
   "source": [
    "#2 passengers do not have an Embarked location.  They are first class and a cabin that starts with B, all of whom\n",
    "# embarked from either C or S.  Givent that S is far more common of the two, I am assigning to S\n",
    "data.Embarked.fillna('S', inplace=True)\n",
    "\n",
    "#There is 1 passenger with no fare.  Since there seems to be no other person on the ticket or with the same name,\n",
    "#I am assigning that passenger the median 3rd class fare\n",
    "data.Fare.fillna(data[data.Pclass == 3]['Fare'].median(), inplace=True)\n",
    "\n",
    "#Extract the person's title to a new column\n",
    "data['Title'] = data['Name'].apply(lambda x: re.compile(r'[a-zA-Z]+\\.').findall(x)[0])\n",
    "titles  = set(data['Title'])\n",
    "\n",
    "#Replace unknown cabins with U\n",
    "data.Cabin.fillna('U', inplace=True)\n",
    "\n",
    "#Extract the deck letter\n",
    "data['Deck'] = data['Cabin'].apply(lambda x: re.compile(r'[A-Z]+').findall(x)[0])\n",
    "\n",
    "#add a column whether the person is under 16\n",
    "data['Child'] = data.Age < 16\n",
    "data['Child'] = data['Child'].astype(int)\n",
    "\n",
    "#family size\n",
    "data['FamSize'] = data.SibSp + data.Parch + 1\n",
    "\n",
    "#convert the Pclass column to object\n",
    "data['Pclass'] = data.Pclass.astype(str)"
   ]
  },
  {
   "cell_type": "code",
   "execution_count": 11,
   "metadata": {},
   "outputs": [],
   "source": [
    "#fill in the missing ages with the median based on Pclass and Title\n",
    "median_ages = data.groupby(['Pclass','Title'])['Age'].median()\n",
    "median_ages['3','Ms.'] = 18  #fill in a missing category\n",
    "\n",
    "def fill_na_ages(row):\n",
    "    if pd.isna(row['Age']):\n",
    "        return median_ages[row['Pclass'], row['Title']]\n",
    "    else:\n",
    "        return row['Age']\n",
    "    \n",
    "data['Age'] = data.apply(fill_na_ages, axis=1)"
   ]
  },
  {
   "cell_type": "code",
   "execution_count": 12,
   "metadata": {},
   "outputs": [],
   "source": [
    "#many of the Cabin values are U - fill in some of those based on the Deck of other people on the same ticket\n",
    "#find the highest Deck letter (min) of each ticket\n",
    "deck_mins = data.groupby(['Ticket'])['Deck'].min()\n",
    "\n",
    "#function to fill in deck\n",
    "def fill_in_deck(row):\n",
    "    if row.Deck == 'U':\n",
    "        return deck_mins[row.Ticket]\n",
    "    else:\n",
    "        return row.Deck\n",
    "    \n",
    "data.Deck = data.apply(fill_in_deck, axis=1)"
   ]
  },
  {
   "cell_type": "code",
   "execution_count": 13,
   "metadata": {},
   "outputs": [
    {
     "data": {
      "text/plain": [
       "Deck\n",
       "A     22\n",
       "B     68\n",
       "C    104\n",
       "D     46\n",
       "E     42\n",
       "F     23\n",
       "G      5\n",
       "T      1\n",
       "U    998\n",
       "Name: Name, dtype: int64"
      ]
     },
     "execution_count": 13,
     "metadata": {},
     "output_type": "execute_result"
    }
   ],
   "source": [
    "#only improved the Deck value a little bit\n",
    "data.groupby(['Deck'])['Name'].count()"
   ]
  },
  {
   "cell_type": "code",
   "execution_count": 14,
   "metadata": {},
   "outputs": [],
   "source": [
    "def per_person_fare(row):\n",
    "    if row.SibSp > 0:\n",
    "        return row.Fare / (row.SibSp + row.Parch)\n",
    "    elif row.Parch > 0:\n",
    "        return row.Fare / (row.SibSp + row.Parch)\n",
    "    else:\n",
    "        return row.Fare\n",
    "\n",
    "data['pp_fare'] = data.apply(per_person_fare, axis=1)"
   ]
  },
  {
   "cell_type": "code",
   "execution_count": 15,
   "metadata": {},
   "outputs": [],
   "source": [
    "data = pd.get_dummies(data.drop(['Name','Ticket','Cabin'],axis=1))"
   ]
  },
  {
   "cell_type": "code",
   "execution_count": 16,
   "metadata": {},
   "outputs": [
    {
     "data": {
      "text/html": [
       "<div>\n",
       "<style scoped>\n",
       "    .dataframe tbody tr th:only-of-type {\n",
       "        vertical-align: middle;\n",
       "    }\n",
       "\n",
       "    .dataframe tbody tr th {\n",
       "        vertical-align: top;\n",
       "    }\n",
       "\n",
       "    .dataframe thead th {\n",
       "        text-align: right;\n",
       "    }\n",
       "</style>\n",
       "<table border=\"1\" class=\"dataframe\">\n",
       "  <thead>\n",
       "    <tr style=\"text-align: right;\">\n",
       "      <th></th>\n",
       "      <th>Age</th>\n",
       "      <th>SibSp</th>\n",
       "      <th>Parch</th>\n",
       "      <th>Fare</th>\n",
       "      <th>Child</th>\n",
       "      <th>FamSize</th>\n",
       "      <th>pp_fare</th>\n",
       "      <th>Pclass_1</th>\n",
       "      <th>Pclass_2</th>\n",
       "      <th>Pclass_3</th>\n",
       "      <th>...</th>\n",
       "      <th>Title_Sir.</th>\n",
       "      <th>Deck_A</th>\n",
       "      <th>Deck_B</th>\n",
       "      <th>Deck_C</th>\n",
       "      <th>Deck_D</th>\n",
       "      <th>Deck_E</th>\n",
       "      <th>Deck_F</th>\n",
       "      <th>Deck_G</th>\n",
       "      <th>Deck_T</th>\n",
       "      <th>Deck_U</th>\n",
       "    </tr>\n",
       "    <tr>\n",
       "      <th>PassengerId</th>\n",
       "      <th></th>\n",
       "      <th></th>\n",
       "      <th></th>\n",
       "      <th></th>\n",
       "      <th></th>\n",
       "      <th></th>\n",
       "      <th></th>\n",
       "      <th></th>\n",
       "      <th></th>\n",
       "      <th></th>\n",
       "      <th></th>\n",
       "      <th></th>\n",
       "      <th></th>\n",
       "      <th></th>\n",
       "      <th></th>\n",
       "      <th></th>\n",
       "      <th></th>\n",
       "      <th></th>\n",
       "      <th></th>\n",
       "      <th></th>\n",
       "      <th></th>\n",
       "    </tr>\n",
       "  </thead>\n",
       "  <tbody>\n",
       "    <tr>\n",
       "      <th>1</th>\n",
       "      <td>22.0</td>\n",
       "      <td>1</td>\n",
       "      <td>0</td>\n",
       "      <td>7.2500</td>\n",
       "      <td>0</td>\n",
       "      <td>2</td>\n",
       "      <td>7.2500</td>\n",
       "      <td>0</td>\n",
       "      <td>0</td>\n",
       "      <td>1</td>\n",
       "      <td>...</td>\n",
       "      <td>0</td>\n",
       "      <td>0</td>\n",
       "      <td>0</td>\n",
       "      <td>0</td>\n",
       "      <td>0</td>\n",
       "      <td>0</td>\n",
       "      <td>0</td>\n",
       "      <td>0</td>\n",
       "      <td>0</td>\n",
       "      <td>1</td>\n",
       "    </tr>\n",
       "    <tr>\n",
       "      <th>2</th>\n",
       "      <td>38.0</td>\n",
       "      <td>1</td>\n",
       "      <td>0</td>\n",
       "      <td>71.2833</td>\n",
       "      <td>0</td>\n",
       "      <td>2</td>\n",
       "      <td>71.2833</td>\n",
       "      <td>1</td>\n",
       "      <td>0</td>\n",
       "      <td>0</td>\n",
       "      <td>...</td>\n",
       "      <td>0</td>\n",
       "      <td>0</td>\n",
       "      <td>0</td>\n",
       "      <td>1</td>\n",
       "      <td>0</td>\n",
       "      <td>0</td>\n",
       "      <td>0</td>\n",
       "      <td>0</td>\n",
       "      <td>0</td>\n",
       "      <td>0</td>\n",
       "    </tr>\n",
       "    <tr>\n",
       "      <th>3</th>\n",
       "      <td>26.0</td>\n",
       "      <td>0</td>\n",
       "      <td>0</td>\n",
       "      <td>7.9250</td>\n",
       "      <td>0</td>\n",
       "      <td>1</td>\n",
       "      <td>7.9250</td>\n",
       "      <td>0</td>\n",
       "      <td>0</td>\n",
       "      <td>1</td>\n",
       "      <td>...</td>\n",
       "      <td>0</td>\n",
       "      <td>0</td>\n",
       "      <td>0</td>\n",
       "      <td>0</td>\n",
       "      <td>0</td>\n",
       "      <td>0</td>\n",
       "      <td>0</td>\n",
       "      <td>0</td>\n",
       "      <td>0</td>\n",
       "      <td>1</td>\n",
       "    </tr>\n",
       "    <tr>\n",
       "      <th>4</th>\n",
       "      <td>35.0</td>\n",
       "      <td>1</td>\n",
       "      <td>0</td>\n",
       "      <td>53.1000</td>\n",
       "      <td>0</td>\n",
       "      <td>2</td>\n",
       "      <td>53.1000</td>\n",
       "      <td>1</td>\n",
       "      <td>0</td>\n",
       "      <td>0</td>\n",
       "      <td>...</td>\n",
       "      <td>0</td>\n",
       "      <td>0</td>\n",
       "      <td>0</td>\n",
       "      <td>1</td>\n",
       "      <td>0</td>\n",
       "      <td>0</td>\n",
       "      <td>0</td>\n",
       "      <td>0</td>\n",
       "      <td>0</td>\n",
       "      <td>0</td>\n",
       "    </tr>\n",
       "    <tr>\n",
       "      <th>5</th>\n",
       "      <td>35.0</td>\n",
       "      <td>0</td>\n",
       "      <td>0</td>\n",
       "      <td>8.0500</td>\n",
       "      <td>0</td>\n",
       "      <td>1</td>\n",
       "      <td>8.0500</td>\n",
       "      <td>0</td>\n",
       "      <td>0</td>\n",
       "      <td>1</td>\n",
       "      <td>...</td>\n",
       "      <td>0</td>\n",
       "      <td>0</td>\n",
       "      <td>0</td>\n",
       "      <td>0</td>\n",
       "      <td>0</td>\n",
       "      <td>0</td>\n",
       "      <td>0</td>\n",
       "      <td>0</td>\n",
       "      <td>0</td>\n",
       "      <td>1</td>\n",
       "    </tr>\n",
       "  </tbody>\n",
       "</table>\n",
       "<p>5 rows × 42 columns</p>\n",
       "</div>"
      ],
      "text/plain": [
       "              Age  SibSp  Parch     Fare  Child  FamSize  pp_fare  Pclass_1  \\\n",
       "PassengerId                                                                   \n",
       "1            22.0      1      0   7.2500      0        2   7.2500         0   \n",
       "2            38.0      1      0  71.2833      0        2  71.2833         1   \n",
       "3            26.0      0      0   7.9250      0        1   7.9250         0   \n",
       "4            35.0      1      0  53.1000      0        2  53.1000         1   \n",
       "5            35.0      0      0   8.0500      0        1   8.0500         0   \n",
       "\n",
       "             Pclass_2  Pclass_3   ...    Title_Sir.  Deck_A  Deck_B  Deck_C  \\\n",
       "PassengerId                       ...                                         \n",
       "1                   0         1   ...             0       0       0       0   \n",
       "2                   0         0   ...             0       0       0       1   \n",
       "3                   0         1   ...             0       0       0       0   \n",
       "4                   0         0   ...             0       0       0       1   \n",
       "5                   0         1   ...             0       0       0       0   \n",
       "\n",
       "             Deck_D  Deck_E  Deck_F  Deck_G  Deck_T  Deck_U  \n",
       "PassengerId                                                  \n",
       "1                 0       0       0       0       0       1  \n",
       "2                 0       0       0       0       0       0  \n",
       "3                 0       0       0       0       0       1  \n",
       "4                 0       0       0       0       0       0  \n",
       "5                 0       0       0       0       0       1  \n",
       "\n",
       "[5 rows x 42 columns]"
      ]
     },
     "execution_count": 16,
     "metadata": {},
     "output_type": "execute_result"
    }
   ],
   "source": [
    "data.head()"
   ]
  },
  {
   "cell_type": "code",
   "execution_count": 17,
   "metadata": {},
   "outputs": [
    {
     "data": {
      "text/plain": [
       "Index(['Age', 'SibSp', 'Parch', 'Fare', 'Child', 'FamSize', 'pp_fare',\n",
       "       'Pclass_1', 'Pclass_2', 'Pclass_3', 'Sex_female', 'Sex_male',\n",
       "       'Embarked_C', 'Embarked_Q', 'Embarked_S', 'Title_Capt.', 'Title_Col.',\n",
       "       'Title_Countess.', 'Title_Don.', 'Title_Dona.', 'Title_Dr.',\n",
       "       'Title_Jonkheer.', 'Title_Lady.', 'Title_Major.', 'Title_Master.',\n",
       "       'Title_Miss.', 'Title_Mlle.', 'Title_Mme.', 'Title_Mr.', 'Title_Mrs.',\n",
       "       'Title_Ms.', 'Title_Rev.', 'Title_Sir.', 'Deck_A', 'Deck_B', 'Deck_C',\n",
       "       'Deck_D', 'Deck_E', 'Deck_F', 'Deck_G', 'Deck_T', 'Deck_U'],\n",
       "      dtype='object')"
      ]
     },
     "execution_count": 17,
     "metadata": {},
     "output_type": "execute_result"
    }
   ],
   "source": [
    "data.columns"
   ]
  },
  {
   "cell_type": "code",
   "execution_count": 18,
   "metadata": {},
   "outputs": [],
   "source": [
    "traindf = data.iloc[:len(train)]\n",
    "testdf = data.iloc[len(train):]"
   ]
  },
  {
   "cell_type": "markdown",
   "metadata": {},
   "source": [
    "### Logistic Regression"
   ]
  },
  {
   "cell_type": "code",
   "execution_count": 19,
   "metadata": {},
   "outputs": [],
   "source": [
    "xtrain = traindf\n",
    "ytrain = survived\n",
    "xtest = testdf"
   ]
  },
  {
   "cell_type": "code",
   "execution_count": 48,
   "metadata": {},
   "outputs": [],
   "source": [
    "lm1 = LogisticRegression(penalty='l1', verbose=3)\n",
    "lm2 = LogisticRegression(penalty='l2', verbose=3)"
   ]
  },
  {
   "cell_type": "code",
   "execution_count": 49,
   "metadata": {},
   "outputs": [
    {
     "name": "stdout",
     "output_type": "stream",
     "text": [
      "[LibLinear][LibLinear]"
     ]
    },
    {
     "data": {
      "text/plain": [
       "LogisticRegression(C=1.0, class_weight=None, dual=False, fit_intercept=True,\n",
       "          intercept_scaling=1, max_iter=100, multi_class='ovr', n_jobs=1,\n",
       "          penalty='l2', random_state=None, solver='liblinear', tol=0.0001,\n",
       "          verbose=3, warm_start=False)"
      ]
     },
     "execution_count": 49,
     "metadata": {},
     "output_type": "execute_result"
    }
   ],
   "source": [
    "lm1.fit(xtrain, ytrain)\n",
    "lm2.fit(xtrain, ytrain)"
   ]
  },
  {
   "cell_type": "code",
   "execution_count": 51,
   "metadata": {},
   "outputs": [
    {
     "data": {
      "text/html": [
       "<div>\n",
       "<style scoped>\n",
       "    .dataframe tbody tr th:only-of-type {\n",
       "        vertical-align: middle;\n",
       "    }\n",
       "\n",
       "    .dataframe tbody tr th {\n",
       "        vertical-align: top;\n",
       "    }\n",
       "\n",
       "    .dataframe thead th {\n",
       "        text-align: right;\n",
       "    }\n",
       "</style>\n",
       "<table border=\"1\" class=\"dataframe\">\n",
       "  <thead>\n",
       "    <tr style=\"text-align: right;\">\n",
       "      <th></th>\n",
       "      <th>Attribute</th>\n",
       "      <th>Coeff. LM1</th>\n",
       "      <th>Coeff. LM2</th>\n",
       "    </tr>\n",
       "  </thead>\n",
       "  <tbody>\n",
       "    <tr>\n",
       "      <th>0</th>\n",
       "      <td>Age</td>\n",
       "      <td>[-0.028382492822751567]</td>\n",
       "      <td>[-0.03066764948717632]</td>\n",
       "    </tr>\n",
       "    <tr>\n",
       "      <th>1</th>\n",
       "      <td>SibSp</td>\n",
       "      <td>[-0.41337301771369517]</td>\n",
       "      <td>[-0.49452222723496103]</td>\n",
       "    </tr>\n",
       "    <tr>\n",
       "      <th>2</th>\n",
       "      <td>Parch</td>\n",
       "      <td>[-0.235202483730507]</td>\n",
       "      <td>[-0.32428271446445356]</td>\n",
       "    </tr>\n",
       "    <tr>\n",
       "      <th>3</th>\n",
       "      <td>Fare</td>\n",
       "      <td>[0.004364883345619096]</td>\n",
       "      <td>[0.0052470156524990555]</td>\n",
       "    </tr>\n",
       "    <tr>\n",
       "      <th>4</th>\n",
       "      <td>Child</td>\n",
       "      <td>[0.1108946280222658]</td>\n",
       "      <td>[0.3549965410709914]</td>\n",
       "    </tr>\n",
       "    <tr>\n",
       "      <th>5</th>\n",
       "      <td>FamSize</td>\n",
       "      <td>[-0.10143682017496557]</td>\n",
       "      <td>[-0.030660738348615706]</td>\n",
       "    </tr>\n",
       "    <tr>\n",
       "      <th>6</th>\n",
       "      <td>pp_fare</td>\n",
       "      <td>[3.789849033576425e-05]</td>\n",
       "      <td>[-0.000604119912999792]</td>\n",
       "    </tr>\n",
       "    <tr>\n",
       "      <th>7</th>\n",
       "      <td>Pclass_1</td>\n",
       "      <td>[0.8577219669747866]</td>\n",
       "      <td>[1.0058398384940601]</td>\n",
       "    </tr>\n",
       "    <tr>\n",
       "      <th>8</th>\n",
       "      <td>Pclass_2</td>\n",
       "      <td>[0.10018043783733303]</td>\n",
       "      <td>[0.39022320157150364]</td>\n",
       "    </tr>\n",
       "    <tr>\n",
       "      <th>9</th>\n",
       "      <td>Pclass_3</td>\n",
       "      <td>[-0.8765786797258384]</td>\n",
       "      <td>[-0.6079188367148589]</td>\n",
       "    </tr>\n",
       "    <tr>\n",
       "      <th>10</th>\n",
       "      <td>Sex_female</td>\n",
       "      <td>[2.6267417804235027]</td>\n",
       "      <td>[1.3475596669160732]</td>\n",
       "    </tr>\n",
       "    <tr>\n",
       "      <th>11</th>\n",
       "      <td>Sex_male</td>\n",
       "      <td>[0.0]</td>\n",
       "      <td>[-0.5594154635653746]</td>\n",
       "    </tr>\n",
       "    <tr>\n",
       "      <th>12</th>\n",
       "      <td>Embarked_C</td>\n",
       "      <td>[0.2349339940736173]</td>\n",
       "      <td>[0.42814435404129336]</td>\n",
       "    </tr>\n",
       "    <tr>\n",
       "      <th>13</th>\n",
       "      <td>Embarked_Q</td>\n",
       "      <td>[0.0]</td>\n",
       "      <td>[0.31243244236891643]</td>\n",
       "    </tr>\n",
       "    <tr>\n",
       "      <th>14</th>\n",
       "      <td>Embarked_S</td>\n",
       "      <td>[-0.1450038591691524]</td>\n",
       "      <td>[0.047567406940442356]</td>\n",
       "    </tr>\n",
       "    <tr>\n",
       "      <th>15</th>\n",
       "      <td>Title_Capt.</td>\n",
       "      <td>[0.0]</td>\n",
       "      <td>[-0.17956550150377304]</td>\n",
       "    </tr>\n",
       "    <tr>\n",
       "      <th>16</th>\n",
       "      <td>Title_Col.</td>\n",
       "      <td>[0.0]</td>\n",
       "      <td>[0.10000723108019716]</td>\n",
       "    </tr>\n",
       "    <tr>\n",
       "      <th>17</th>\n",
       "      <td>Title_Countess.</td>\n",
       "      <td>[0.0]</td>\n",
       "      <td>[0.05711992176788068]</td>\n",
       "    </tr>\n",
       "    <tr>\n",
       "      <th>18</th>\n",
       "      <td>Title_Don.</td>\n",
       "      <td>[0.0]</td>\n",
       "      <td>[-0.4145999634797188]</td>\n",
       "    </tr>\n",
       "    <tr>\n",
       "      <th>19</th>\n",
       "      <td>Title_Dona.</td>\n",
       "      <td>[0.0]</td>\n",
       "      <td>[0.0]</td>\n",
       "    </tr>\n",
       "    <tr>\n",
       "      <th>20</th>\n",
       "      <td>Title_Dr.</td>\n",
       "      <td>[0.0]</td>\n",
       "      <td>[-0.13708941773304137]</td>\n",
       "    </tr>\n",
       "    <tr>\n",
       "      <th>21</th>\n",
       "      <td>Title_Jonkheer.</td>\n",
       "      <td>[0.0]</td>\n",
       "      <td>[-0.33125151765575944]</td>\n",
       "    </tr>\n",
       "    <tr>\n",
       "      <th>22</th>\n",
       "      <td>Title_Lady.</td>\n",
       "      <td>[0.0]</td>\n",
       "      <td>[0.11850235949090732]</td>\n",
       "    </tr>\n",
       "    <tr>\n",
       "      <th>23</th>\n",
       "      <td>Title_Major.</td>\n",
       "      <td>[0.0]</td>\n",
       "      <td>[0.047346427427924845]</td>\n",
       "    </tr>\n",
       "    <tr>\n",
       "      <th>24</th>\n",
       "      <td>Title_Master.</td>\n",
       "      <td>[2.802585357896771]</td>\n",
       "      <td>[1.746215516314084]</td>\n",
       "    </tr>\n",
       "    <tr>\n",
       "      <th>25</th>\n",
       "      <td>Title_Miss.</td>\n",
       "      <td>[0.0]</td>\n",
       "      <td>[-0.06150674110595529]</td>\n",
       "    </tr>\n",
       "    <tr>\n",
       "      <th>26</th>\n",
       "      <td>Title_Mlle.</td>\n",
       "      <td>[0.0]</td>\n",
       "      <td>[0.08408416314080426]</td>\n",
       "    </tr>\n",
       "    <tr>\n",
       "      <th>27</th>\n",
       "      <td>Title_Mme.</td>\n",
       "      <td>[0.0]</td>\n",
       "      <td>[0.03382357781560042]</td>\n",
       "    </tr>\n",
       "    <tr>\n",
       "      <th>28</th>\n",
       "      <td>Title_Mr.</td>\n",
       "      <td>[-0.20684861566432983]</td>\n",
       "      <td>[-0.8731094188735266]</td>\n",
       "    </tr>\n",
       "    <tr>\n",
       "      <th>29</th>\n",
       "      <td>Title_Mrs.</td>\n",
       "      <td>[0.7692224607100535]</td>\n",
       "      <td>[0.8612509096362517]</td>\n",
       "    </tr>\n",
       "    <tr>\n",
       "      <th>30</th>\n",
       "      <td>Title_Ms.</td>\n",
       "      <td>[0.0]</td>\n",
       "      <td>[0.16985963378088065]</td>\n",
       "    </tr>\n",
       "    <tr>\n",
       "      <th>31</th>\n",
       "      <td>Title_Rev.</td>\n",
       "      <td>[0.0]</td>\n",
       "      <td>[-0.8169958391664172]</td>\n",
       "    </tr>\n",
       "    <tr>\n",
       "      <th>32</th>\n",
       "      <td>Title_Sir.</td>\n",
       "      <td>[0.0]</td>\n",
       "      <td>[0.38405286241438824]</td>\n",
       "    </tr>\n",
       "    <tr>\n",
       "      <th>33</th>\n",
       "      <td>Deck_A</td>\n",
       "      <td>[0.0]</td>\n",
       "      <td>[0.09973764184347028]</td>\n",
       "    </tr>\n",
       "    <tr>\n",
       "      <th>34</th>\n",
       "      <td>Deck_B</td>\n",
       "      <td>[0.0]</td>\n",
       "      <td>[0.14129328674820568]</td>\n",
       "    </tr>\n",
       "    <tr>\n",
       "      <th>35</th>\n",
       "      <td>Deck_C</td>\n",
       "      <td>[-0.236711687554204]</td>\n",
       "      <td>[-0.2568931102487869]</td>\n",
       "    </tr>\n",
       "    <tr>\n",
       "      <th>36</th>\n",
       "      <td>Deck_D</td>\n",
       "      <td>[0.5439927770140285]</td>\n",
       "      <td>[0.7195793924819684]</td>\n",
       "    </tr>\n",
       "    <tr>\n",
       "      <th>37</th>\n",
       "      <td>Deck_E</td>\n",
       "      <td>[0.7485851848723017]</td>\n",
       "      <td>[0.8763591645505112]</td>\n",
       "    </tr>\n",
       "    <tr>\n",
       "      <th>38</th>\n",
       "      <td>Deck_F</td>\n",
       "      <td>[0.0]</td>\n",
       "      <td>[0.32883473495864507]</td>\n",
       "    </tr>\n",
       "    <tr>\n",
       "      <th>39</th>\n",
       "      <td>Deck_G</td>\n",
       "      <td>[0.0]</td>\n",
       "      <td>[-0.5069898927550807]</td>\n",
       "    </tr>\n",
       "    <tr>\n",
       "      <th>40</th>\n",
       "      <td>Deck_T</td>\n",
       "      <td>[0.0]</td>\n",
       "      <td>[-0.23950672325143801]</td>\n",
       "    </tr>\n",
       "    <tr>\n",
       "      <th>41</th>\n",
       "      <td>Deck_U</td>\n",
       "      <td>[-0.337484300498032]</td>\n",
       "      <td>[-0.374270290976834]</td>\n",
       "    </tr>\n",
       "  </tbody>\n",
       "</table>\n",
       "</div>"
      ],
      "text/plain": [
       "          Attribute               Coeff. LM1               Coeff. LM2\n",
       "0               Age  [-0.028382492822751567]   [-0.03066764948717632]\n",
       "1             SibSp   [-0.41337301771369517]   [-0.49452222723496103]\n",
       "2             Parch     [-0.235202483730507]   [-0.32428271446445356]\n",
       "3              Fare   [0.004364883345619096]  [0.0052470156524990555]\n",
       "4             Child     [0.1108946280222658]     [0.3549965410709914]\n",
       "5           FamSize   [-0.10143682017496557]  [-0.030660738348615706]\n",
       "6           pp_fare  [3.789849033576425e-05]  [-0.000604119912999792]\n",
       "7          Pclass_1     [0.8577219669747866]     [1.0058398384940601]\n",
       "8          Pclass_2    [0.10018043783733303]    [0.39022320157150364]\n",
       "9          Pclass_3    [-0.8765786797258384]    [-0.6079188367148589]\n",
       "10       Sex_female     [2.6267417804235027]     [1.3475596669160732]\n",
       "11         Sex_male                    [0.0]    [-0.5594154635653746]\n",
       "12       Embarked_C     [0.2349339940736173]    [0.42814435404129336]\n",
       "13       Embarked_Q                    [0.0]    [0.31243244236891643]\n",
       "14       Embarked_S    [-0.1450038591691524]   [0.047567406940442356]\n",
       "15      Title_Capt.                    [0.0]   [-0.17956550150377304]\n",
       "16       Title_Col.                    [0.0]    [0.10000723108019716]\n",
       "17  Title_Countess.                    [0.0]    [0.05711992176788068]\n",
       "18       Title_Don.                    [0.0]    [-0.4145999634797188]\n",
       "19      Title_Dona.                    [0.0]                    [0.0]\n",
       "20        Title_Dr.                    [0.0]   [-0.13708941773304137]\n",
       "21  Title_Jonkheer.                    [0.0]   [-0.33125151765575944]\n",
       "22      Title_Lady.                    [0.0]    [0.11850235949090732]\n",
       "23     Title_Major.                    [0.0]   [0.047346427427924845]\n",
       "24    Title_Master.      [2.802585357896771]      [1.746215516314084]\n",
       "25      Title_Miss.                    [0.0]   [-0.06150674110595529]\n",
       "26      Title_Mlle.                    [0.0]    [0.08408416314080426]\n",
       "27       Title_Mme.                    [0.0]    [0.03382357781560042]\n",
       "28        Title_Mr.   [-0.20684861566432983]    [-0.8731094188735266]\n",
       "29       Title_Mrs.     [0.7692224607100535]     [0.8612509096362517]\n",
       "30        Title_Ms.                    [0.0]    [0.16985963378088065]\n",
       "31       Title_Rev.                    [0.0]    [-0.8169958391664172]\n",
       "32       Title_Sir.                    [0.0]    [0.38405286241438824]\n",
       "33           Deck_A                    [0.0]    [0.09973764184347028]\n",
       "34           Deck_B                    [0.0]    [0.14129328674820568]\n",
       "35           Deck_C     [-0.236711687554204]    [-0.2568931102487869]\n",
       "36           Deck_D     [0.5439927770140285]     [0.7195793924819684]\n",
       "37           Deck_E     [0.7485851848723017]     [0.8763591645505112]\n",
       "38           Deck_F                    [0.0]    [0.32883473495864507]\n",
       "39           Deck_G                    [0.0]    [-0.5069898927550807]\n",
       "40           Deck_T                    [0.0]   [-0.23950672325143801]\n",
       "41           Deck_U     [-0.337484300498032]     [-0.374270290976834]"
      ]
     },
     "execution_count": 51,
     "metadata": {},
     "output_type": "execute_result"
    }
   ],
   "source": [
    "pd.DataFrame(list(zip(xtrain.columns, np.transpose(lm1.coef_), np.transpose(lm2.coef_))), \n",
    "             columns=['Attribute','Coeff. LM1','Coeff. LM2'])"
   ]
  },
  {
   "cell_type": "code",
   "execution_count": 41,
   "metadata": {},
   "outputs": [],
   "source": [
    "lm1_predict = pd.concat([pd.DataFrame(test.index),\n",
    "                         pd.DataFrame(lm1.predict(xtest), columns=['Survived'])], axis=1)\n",
    "lm2_predict = pd.concat([pd.DataFrame(test.index), \n",
    "                         pd.DataFrame(lm2.predict(xtest), columns=['Survived'])], axis=1)"
   ]
  },
  {
   "cell_type": "code",
   "execution_count": 42,
   "metadata": {},
   "outputs": [],
   "source": [
    "lm1_predict.to_csv('Data/lm1.csv', index=False)\n",
    "lm2_predict.to_csv('Data/lm2.csv', index=False)"
   ]
  },
  {
   "cell_type": "code",
   "execution_count": 54,
   "metadata": {},
   "outputs": [
    {
     "data": {
      "text/plain": [
       "<bound method ClassifierMixin.score of LogisticRegression(C=1.0, class_weight=None, dual=False, fit_intercept=True,\n",
       "          intercept_scaling=1, max_iter=100, multi_class='ovr', n_jobs=1,\n",
       "          penalty='l1', random_state=None, solver='liblinear', tol=0.0001,\n",
       "          verbose=3, warm_start=False)>"
      ]
     },
     "execution_count": 54,
     "metadata": {},
     "output_type": "execute_result"
    }
   ],
   "source": [
    "lm1.score"
   ]
  },
  {
   "cell_type": "code",
   "execution_count": 58,
   "metadata": {},
   "outputs": [
    {
     "name": "stdout",
     "output_type": "stream",
     "text": [
      "LM1 accuracy 0.8383838383838383\n",
      "LM1 precision 0.8074534161490683\n"
     ]
    }
   ],
   "source": [
    "print('LM1 accuracy', metrics.accuracy_score(ytrain, lm1.predict(xtrain)))\n",
    "print('LM1 precision', metrics.precision_score(ytrain, lm1.predict(xtrain)))"
   ]
  },
  {
   "cell_type": "code",
   "execution_count": 59,
   "metadata": {},
   "outputs": [
    {
     "name": "stdout",
     "output_type": "stream",
     "text": [
      "LM2 accuracy 0.8417508417508418\n",
      "LM2 precision 0.8092307692307692\n"
     ]
    }
   ],
   "source": [
    "print('LM2 accuracy', metrics.accuracy_score(ytrain, lm2.predict(xtrain)))\n",
    "print('LM2 precision', metrics.precision_score(ytrain, lm2.predict(xtrain)))"
   ]
  },
  {
   "cell_type": "markdown",
   "metadata": {},
   "source": [
    "LM1 scored 0.78947 and LM2 scored 0.78468"
   ]
  },
  {
   "cell_type": "code",
   "execution_count": 68,
   "metadata": {},
   "outputs": [
    {
     "name": "stdout",
     "output_type": "stream",
     "text": [
      "Fitting 5 folds for each of 24 candidates, totalling 120 fits\n"
     ]
    },
    {
     "name": "stderr",
     "output_type": "stream",
     "text": [
      "[Parallel(n_jobs=4)]: Done  42 tasks      | elapsed:   22.6s\n"
     ]
    },
    {
     "name": "stdout",
     "output_type": "stream",
     "text": [
      "0.8237934904601572 {'C': 1.0, 'fit_intercept': True, 'penalty': 'l1'}\n",
      "Avg time per model (s)  0.25024377306302387\n"
     ]
    },
    {
     "name": "stderr",
     "output_type": "stream",
     "text": [
      "[Parallel(n_jobs=4)]: Done 120 out of 120 | elapsed:   23.6s finished\n"
     ]
    }
   ],
   "source": [
    "cvmethod = KFold(n_splits=5)\n",
    "parameters = {'penalty':['l1','l2'], \\\n",
    "             'C':[0.1,0.5,1.0,5,10,100], \\\n",
    "             'fit_intercept':[True,False]}\n",
    "nmodels = np.product([len(par) for par in parameters.values()])\n",
    "\n",
    "start = time.time()\n",
    "cvmodel = GridSearchCV(LogisticRegression(), parameters, cv=cvmethod, scoring='accuracy', \\\n",
    "                      verbose=1, n_jobs=4)\n",
    "cvmodel.fit(xtrain,ytrain)\n",
    "stop = time.time()\n",
    "print(cvmodel.best_score_, cvmodel.best_params_)\n",
    "print('Avg time per model (s) ', (stop-start)/float(nmodels*4))"
   ]
  },
  {
   "cell_type": "markdown",
   "metadata": {},
   "source": [
    "The Grid Search CV found that the best parameters were the L1 penalty (Lasso) with the default C and fit_intercept.  There doesn't appear to be a way to improve the accuracy by tweaking the logistic regression model"
   ]
  },
  {
   "cell_type": "markdown",
   "metadata": {},
   "source": [
    "### Random Forest"
   ]
  },
  {
   "cell_type": "code",
   "execution_count": 20,
   "metadata": {},
   "outputs": [
    {
     "name": "stdout",
     "output_type": "stream",
     "text": [
      "Fitting 3 folds for each of 120 candidates, totalling 360 fits\n"
     ]
    },
    {
     "name": "stderr",
     "output_type": "stream",
     "text": [
      "[Parallel(n_jobs=4)]: Done  42 tasks      | elapsed:   23.8s\n",
      "[Parallel(n_jobs=4)]: Done 331 tasks      | elapsed:   44.0s\n",
      "[Parallel(n_jobs=4)]: Done 353 out of 360 | elapsed:   45.3s remaining:    0.8s\n",
      "[Parallel(n_jobs=4)]: Done 360 out of 360 | elapsed:   47.8s finished\n"
     ]
    },
    {
     "name": "stdout",
     "output_type": "stream",
     "text": [
      "0.8338945005611672 {'max_depth': 10, 'max_features': 'log2', 'n_estimators': 500, 'oob_score': True}\n"
     ]
    }
   ],
   "source": [
    "rfc_params = {'n_estimators':[1,10,50,100,500], 'max_depth':[None,10,25,50], \\\n",
    "             'max_features':['auto','log2',None], 'oob_score':[False,True]}\n",
    "\n",
    "rfc_model = GridSearchCV(RandomForestClassifier(), rfc_params, scoring='accuracy', \\\n",
    "                        cv=KFold(n_splits=3), verbose=1, n_jobs=4)\n",
    "rfc_model.fit(xtrain,ytrain)\n",
    "print(rfc_model.best_score_, rfc_model.best_params_)"
   ]
  },
  {
   "cell_type": "code",
   "execution_count": 78,
   "metadata": {},
   "outputs": [],
   "source": [
    "rfc = RandomForestClassifier(max_depth=10, n_estimators=50)\n",
    "rfc.fit(xtrain,ytrain)\n",
    "\n",
    "rfc_pred1 = pd.concat([pd.DataFrame(test.index), pd.DataFrame(rfc.predict(xtest), columns=['Survived'])], axis=1)"
   ]
  },
  {
   "cell_type": "markdown",
   "metadata": {},
   "source": [
    "Only scored a 0.7799.  Not an improvement of the LM1 model"
   ]
  },
  {
   "cell_type": "code",
   "execution_count": 76,
   "metadata": {},
   "outputs": [],
   "source": [
    "#change the estimators to 500\n",
    "rfc = RandomForestClassifier(max_depth=10, n_estimators=500)\n",
    "rfc.fit(xtrain,ytrain)\n",
    "\n",
    "rfc_pred2 = pd.concat([pd.DataFrame(test.index), pd.DataFrame(rfc.predict(xtest), columns=['Survived'])], axis=1)"
   ]
  },
  {
   "cell_type": "code",
   "execution_count": 79,
   "metadata": {},
   "outputs": [],
   "source": [
    "rfc_pred1.to_csv('Data/rfc1.csv', index=False)\n",
    "rfc_pred2.to_csv('Data/rfc2.csv', index=False)"
   ]
  },
  {
   "cell_type": "markdown",
   "metadata": {},
   "source": [
    "The larger predictors scored a 0.78468"
   ]
  },
  {
   "cell_type": "markdown",
   "metadata": {},
   "source": [
    "### KNeighbors Classifier"
   ]
  },
  {
   "cell_type": "code",
   "execution_count": 84,
   "metadata": {},
   "outputs": [
    {
     "name": "stdout",
     "output_type": "stream",
     "text": [
      "Fitting 3 folds for each of 40 candidates, totalling 120 fits\n",
      "0.734006734006734 {'algorithm': 'auto', 'n_neighbors': 5, 'weights': 'uniform'}\n"
     ]
    },
    {
     "name": "stderr",
     "output_type": "stream",
     "text": [
      "[Parallel(n_jobs=1)]: Done 120 out of 120 | elapsed:    2.2s finished\n"
     ]
    }
   ],
   "source": [
    "knn_params = {'n_neighbors':[2,3,4,5,10], 'weights':['uniform','distance'], \\\n",
    "             'algorithm':['auto','ball_tree','kd_tree','brute']}\n",
    "\n",
    "knn_model = GridSearchCV(KNeighborsClassifier(), knn_params, scoring='accuracy', \\\n",
    "                        verbose=1)\n",
    "knn_model.fit(xtrain,ytrain)\n",
    "print(knn_model.best_score_, knn_model.best_params_)"
   ]
  },
  {
   "cell_type": "code",
   "execution_count": 86,
   "metadata": {},
   "outputs": [],
   "source": [
    "#the best parameters were all default\n",
    "knn = KNeighborsClassifier()\n",
    "\n",
    "knn.fit(xtrain,ytrain)\n",
    "\n",
    "knn_pred = pd.concat([pd.DataFrame(test.index), pd.DataFrame(knn.predict(xtest), columns=['Survived'])], axis=1)"
   ]
  },
  {
   "cell_type": "code",
   "execution_count": 87,
   "metadata": {},
   "outputs": [],
   "source": [
    "knn_pred.to_csv('Data/knn.csv', index=False)"
   ]
  },
  {
   "cell_type": "markdown",
   "metadata": {},
   "source": [
    "Only scored 0.62679, which is far worse than prior models"
   ]
  },
  {
   "cell_type": "markdown",
   "metadata": {},
   "source": [
    "### Support Vector Machines"
   ]
  },
  {
   "cell_type": "code",
   "execution_count": 22,
   "metadata": {},
   "outputs": [],
   "source": [
    "cvmethod = StratifiedKFold(n_splits=4, shuffle=True)"
   ]
  },
  {
   "cell_type": "code",
   "execution_count": 20,
   "metadata": {},
   "outputs": [],
   "source": [
    "scaler = StandardScaler()\n",
    "\n",
    "scaled_data = scaler.fit_transform(data.values)\n",
    "scaled_data = pd.DataFrame(scaled_data, index=data.index, columns=data.columns)"
   ]
  },
  {
   "cell_type": "code",
   "execution_count": 24,
   "metadata": {},
   "outputs": [],
   "source": [
    "sc_xtrain = scaled_data.iloc[:len(train)]\n",
    "sc_xtest = scaled_data.iloc[len(train):]"
   ]
  },
  {
   "cell_type": "code",
   "execution_count": null,
   "metadata": {},
   "outputs": [
    {
     "name": "stdout",
     "output_type": "stream",
     "text": [
      "Fitting 4 folds for each of 18 candidates, totalling 72 fits\n"
     ]
    },
    {
     "name": "stderr",
     "output_type": "stream",
     "text": [
      "[Parallel(n_jobs=4)]: Done  42 tasks      | elapsed:   37.0s\n"
     ]
    }
   ],
   "source": [
    "svm_params = {'kernel':['rbf','poly'], \\\n",
    "              'gamma':[0.01, 0.1, 0.5], 'C':[1,10,100]}\n",
    "\n",
    "svm_model = GridSearchCV(SVC(), svm_params, cv = cvmethod, scoring = 'accuracy', \\\n",
    "                     verbose = 1, n_jobs = 4)\n",
    "\n",
    "svm_model.fit(sc_xtrain,ytrain)\n",
    "print(svm_model.best_score_, svm_model.best_params_)"
   ]
  },
  {
   "cell_type": "markdown",
   "metadata": {},
   "source": [
    "### Gradient Boosting"
   ]
  },
  {
   "cell_type": "code",
   "execution_count": 23,
   "metadata": {},
   "outputs": [
    {
     "name": "stdout",
     "output_type": "stream",
     "text": [
      "Fitting 4 folds for each of 18 candidates, totalling 72 fits\n"
     ]
    },
    {
     "name": "stderr",
     "output_type": "stream",
     "text": [
      "[Parallel(n_jobs=4)]: Done  42 tasks      | elapsed:   25.5s\n",
      "[Parallel(n_jobs=4)]: Done  72 out of  72 | elapsed:   27.7s finished\n"
     ]
    },
    {
     "name": "stdout",
     "output_type": "stream",
     "text": [
      "0.8282828282828283 {'learning_rate': 0.1, 'max_depth': 3, 'subsample': 1.0}\n"
     ]
    }
   ],
   "source": [
    "gb_params = {'max_depth':[3,5,8], 'learning_rate': [0.1, 0.3, 0.5], 'subsample': [0.8, 1.0]}\n",
    "\n",
    "gb_model = GridSearchCV(GradientBoostingClassifier(), gb_params, cv= cvmethod, \\\n",
    "                       scoring = 'accuracy', verbose=1, n_jobs=4)\n",
    "\n",
    "gb_model.fit(xtrain,ytrain)\n",
    "print(gb_model.best_score_, gb_model.best_params_)"
   ]
  },
  {
   "cell_type": "code",
   "execution_count": 25,
   "metadata": {},
   "outputs": [],
   "source": [
    "gb = GradientBoostingClassifier(max_depth=3, learning_rate=0.1, subsample=1.0)\n",
    "\n",
    "gb.fit(xtrain,ytrain)\n",
    "\n",
    "gb_pred = pd.concat([pd.DataFrame(test.index), pd.DataFrame(gb.predict(xtest), columns=['Survived'])],axis=1)"
   ]
  },
  {
   "cell_type": "code",
   "execution_count": 26,
   "metadata": {},
   "outputs": [
    {
     "data": {
      "text/html": [
       "<div>\n",
       "<style scoped>\n",
       "    .dataframe tbody tr th:only-of-type {\n",
       "        vertical-align: middle;\n",
       "    }\n",
       "\n",
       "    .dataframe tbody tr th {\n",
       "        vertical-align: top;\n",
       "    }\n",
       "\n",
       "    .dataframe thead th {\n",
       "        text-align: right;\n",
       "    }\n",
       "</style>\n",
       "<table border=\"1\" class=\"dataframe\">\n",
       "  <thead>\n",
       "    <tr style=\"text-align: right;\">\n",
       "      <th></th>\n",
       "      <th>PassengerId</th>\n",
       "      <th>Survived</th>\n",
       "    </tr>\n",
       "  </thead>\n",
       "  <tbody>\n",
       "    <tr>\n",
       "      <th>0</th>\n",
       "      <td>892</td>\n",
       "      <td>0</td>\n",
       "    </tr>\n",
       "    <tr>\n",
       "      <th>1</th>\n",
       "      <td>893</td>\n",
       "      <td>1</td>\n",
       "    </tr>\n",
       "    <tr>\n",
       "      <th>2</th>\n",
       "      <td>894</td>\n",
       "      <td>0</td>\n",
       "    </tr>\n",
       "    <tr>\n",
       "      <th>3</th>\n",
       "      <td>895</td>\n",
       "      <td>0</td>\n",
       "    </tr>\n",
       "    <tr>\n",
       "      <th>4</th>\n",
       "      <td>896</td>\n",
       "      <td>1</td>\n",
       "    </tr>\n",
       "  </tbody>\n",
       "</table>\n",
       "</div>"
      ],
      "text/plain": [
       "   PassengerId  Survived\n",
       "0          892         0\n",
       "1          893         1\n",
       "2          894         0\n",
       "3          895         0\n",
       "4          896         1"
      ]
     },
     "execution_count": 26,
     "metadata": {},
     "output_type": "execute_result"
    }
   ],
   "source": [
    "gb_pred.head()"
   ]
  },
  {
   "cell_type": "code",
   "execution_count": 27,
   "metadata": {},
   "outputs": [],
   "source": [
    "gb_pred.to_csv('Data/grad_boost.csv', index=False)"
   ]
  },
  {
   "cell_type": "markdown",
   "metadata": {},
   "source": [
    "This scored a 0.76555, which is not an improvement of my best score"
   ]
  },
  {
   "cell_type": "code",
   "execution_count": null,
   "metadata": {},
   "outputs": [],
   "source": []
  }
 ],
 "metadata": {
  "kernelspec": {
   "display_name": "Python 3",
   "language": "python",
   "name": "python3"
  },
  "language_info": {
   "codemirror_mode": {
    "name": "ipython",
    "version": 3
   },
   "file_extension": ".py",
   "mimetype": "text/x-python",
   "name": "python",
   "nbconvert_exporter": "python",
   "pygments_lexer": "ipython3",
   "version": "3.6.5"
  }
 },
 "nbformat": 4,
 "nbformat_minor": 2
}
